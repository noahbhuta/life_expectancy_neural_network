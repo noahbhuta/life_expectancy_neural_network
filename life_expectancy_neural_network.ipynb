{
 "cells": [
  {
   "cell_type": "code",
   "execution_count": 1,
   "id": "10f74a5f",
   "metadata": {},
   "outputs": [],
   "source": [
    "## For this project I will use a list of features to predict life expectancy by creating a neural network regression model."
   ]
  },
  {
   "cell_type": "code",
   "execution_count": 2,
   "id": "7b8c6302",
   "metadata": {},
   "outputs": [],
   "source": [
    "# life_expectancy.csv provided by codecademy"
   ]
  },
  {
   "cell_type": "code",
   "execution_count": 3,
   "id": "1772860e",
   "metadata": {},
   "outputs": [],
   "source": [
    "import pandas as pd"
   ]
  },
  {
   "cell_type": "code",
   "execution_count": 4,
   "id": "28b6a579",
   "metadata": {},
   "outputs": [
    {
     "name": "stdout",
     "output_type": "stream",
     "text": [
      "       Country  Year      Status  Adult Mortality  infant deaths  Alcohol  \\\n",
      "0  Afghanistan  2015  Developing            263.0             62     0.01   \n",
      "1  Afghanistan  2014  Developing            271.0             64     0.01   \n",
      "2  Afghanistan  2013  Developing            268.0             66     0.01   \n",
      "3  Afghanistan  2012  Developing            272.0             69     0.01   \n",
      "4  Afghanistan  2011  Developing            275.0             71     0.01   \n",
      "\n",
      "   percentage expenditure  Hepatitis B  Measles    BMI   ...  \\\n",
      "0               71.279624         65.0      1154   19.1  ...   \n",
      "1               73.523582         62.0       492   18.6  ...   \n",
      "2               73.219243         64.0       430   18.1  ...   \n",
      "3               78.184215         67.0      2787   17.6  ...   \n",
      "4                7.097109         68.0      3013   17.2  ...   \n",
      "\n",
      "   Total expenditure  Diphtheria    HIV/AIDS         GDP  Population  \\\n",
      "0               8.16         65.0        0.1  584.259210  33736494.0   \n",
      "1               8.18         62.0        0.1  612.696514    327582.0   \n",
      "2               8.13         64.0        0.1  631.744976  31731688.0   \n",
      "3               8.52         67.0        0.1  669.959000   3696958.0   \n",
      "4               7.87         68.0        0.1   63.537231   2978599.0   \n",
      "\n",
      "    thinness  1-19 years   thinness 5-9 years  \\\n",
      "0                   17.2                 17.3   \n",
      "1                   17.5                 17.5   \n",
      "2                   17.7                 17.7   \n",
      "3                   17.9                 18.0   \n",
      "4                   18.2                 18.2   \n",
      "\n",
      "   Income composition of resources  Schooling  Life expectancy  \n",
      "0                            0.479       10.1             65.0  \n",
      "1                            0.476       10.0             59.9  \n",
      "2                            0.470        9.9             59.9  \n",
      "3                            0.463        9.8             59.5  \n",
      "4                            0.454        9.5             59.2  \n",
      "\n",
      "[5 rows x 22 columns]\n"
     ]
    }
   ],
   "source": [
    "dataset = pd.read_csv('life_expectancy.csv')\n",
    "print(dataset.head(5))"
   ]
  },
  {
   "cell_type": "code",
   "execution_count": 5,
   "id": "90a46acf",
   "metadata": {},
   "outputs": [
    {
     "name": "stdout",
     "output_type": "stream",
     "text": [
      "Index(['Country', 'Year', 'Status', 'Adult Mortality', 'infant deaths',\n",
      "       'Alcohol', 'percentage expenditure', 'Hepatitis B', 'Measles ', ' BMI ',\n",
      "       'under-five deaths ', 'Polio', 'Total expenditure', 'Diphtheria ',\n",
      "       ' HIV/AIDS', 'GDP', 'Population', ' thinness  1-19 years',\n",
      "       ' thinness 5-9 years', 'Income composition of resources', 'Schooling',\n",
      "       'Life expectancy'],\n",
      "      dtype='object')\n"
     ]
    }
   ],
   "source": [
    "print(dataset.columns)"
   ]
  },
  {
   "cell_type": "code",
   "execution_count": 6,
   "id": "90d95438",
   "metadata": {},
   "outputs": [
    {
     "name": "stdout",
     "output_type": "stream",
     "text": [
      "              Year  Adult Mortality  infant deaths      Alcohol  \\\n",
      "count  2938.000000      2938.000000    2938.000000  2938.000000   \n",
      "mean   2007.518720       164.725664      30.303948     4.546875   \n",
      "std       4.613841       124.086215     117.926501     3.921946   \n",
      "min    2000.000000         1.000000       0.000000     0.010000   \n",
      "25%    2004.000000        74.000000       0.000000     1.092500   \n",
      "50%    2008.000000       144.000000       3.000000     3.755000   \n",
      "75%    2012.000000       227.000000      22.000000     7.390000   \n",
      "max    2015.000000       723.000000    1800.000000    17.870000   \n",
      "\n",
      "       percentage expenditure  Hepatitis B       Measles          BMI   \\\n",
      "count             2938.000000  2938.000000    2938.000000  2938.000000   \n",
      "mean               738.251295    83.022124    2419.592240    38.381178   \n",
      "std               1987.914858    22.996984   11467.272489    19.935375   \n",
      "min                  0.000000     1.000000       0.000000     1.000000   \n",
      "25%                  4.685343    82.000000       0.000000    19.400000   \n",
      "50%                 64.912906    92.000000      17.000000    43.500000   \n",
      "75%                441.534144    96.000000     360.250000    56.100000   \n",
      "max              19479.911610    99.000000  212183.000000    87.300000   \n",
      "\n",
      "       under-five deaths         Polio  Total expenditure  Diphtheria   \\\n",
      "count         2938.000000  2938.000000        2938.000000  2938.000000   \n",
      "mean            42.035739    82.617767           5.924098    82.393125   \n",
      "std            160.445548    23.367166           2.400770    23.655562   \n",
      "min              0.000000     3.000000           0.370000     2.000000   \n",
      "25%              0.000000    78.000000           4.370000    78.000000   \n",
      "50%              4.000000    93.000000           5.755000    93.000000   \n",
      "75%             28.000000    97.000000           7.330000    97.000000   \n",
      "max           2500.000000    99.000000          17.600000    99.000000   \n",
      "\n",
      "          HIV/AIDS            GDP    Population   thinness  1-19 years  \\\n",
      "count  2938.000000    2938.000000  2.938000e+03            2938.000000   \n",
      "mean      1.742103    6611.523863  1.023085e+07               4.821886   \n",
      "std       5.077785   13296.603449  5.402242e+07               4.397621   \n",
      "min       0.100000       1.681350  3.400000e+01               0.100000   \n",
      "25%       0.100000     580.486996  4.189172e+05               1.600000   \n",
      "50%       0.100000    1766.947595  1.386542e+06               3.300000   \n",
      "75%       0.800000    4779.405190  4.584371e+06               7.100000   \n",
      "max      50.600000  119172.741800  1.293859e+09              27.700000   \n",
      "\n",
      "        thinness 5-9 years  Income composition of resources    Schooling  \\\n",
      "count          2938.000000                      2938.000000  2938.000000   \n",
      "mean              4.852144                         0.630362    12.009837   \n",
      "std               4.485854                         0.205140     3.265139   \n",
      "min               0.100000                         0.000000     0.000000   \n",
      "25%               1.600000                         0.504250    10.300000   \n",
      "50%               3.300000                         0.677000    12.300000   \n",
      "75%               7.200000                         0.772000    14.100000   \n",
      "max              28.600000                         0.948000    20.700000   \n",
      "\n",
      "       Life expectancy  \n",
      "count      2938.000000  \n",
      "mean         69.234717  \n",
      "std           9.509115  \n",
      "min          36.300000  \n",
      "25%          63.200000  \n",
      "50%          72.100000  \n",
      "75%          75.600000  \n",
      "max          89.000000  \n"
     ]
    }
   ],
   "source": [
    "print(dataset.describe())"
   ]
  },
  {
   "cell_type": "code",
   "execution_count": 7,
   "id": "75abeafd",
   "metadata": {},
   "outputs": [],
   "source": [
    "dataset = dataset.drop(['Country'],axis = 1)"
   ]
  },
  {
   "cell_type": "code",
   "execution_count": 8,
   "id": "c3352ec5",
   "metadata": {},
   "outputs": [],
   "source": [
    "labels = dataset['Life expectancy']\n",
    "features = dataset.iloc[:, 0:-1]"
   ]
  },
  {
   "cell_type": "code",
   "execution_count": 9,
   "id": "d1f0a68a",
   "metadata": {},
   "outputs": [],
   "source": [
    "features = pd.get_dummies(features)"
   ]
  },
  {
   "cell_type": "code",
   "execution_count": 10,
   "id": "9d6067ad",
   "metadata": {},
   "outputs": [],
   "source": [
    "from sklearn.model_selection import train_test_split\n",
    "\n",
    "X_train, X_test, y_train, y_test = train_test_split(features, labels, test_size = .2, random_state = 1)"
   ]
  },
  {
   "cell_type": "code",
   "execution_count": 11,
   "id": "960d1968",
   "metadata": {},
   "outputs": [],
   "source": [
    "from sklearn.compose import ColumnTransformer\n",
    "from sklearn.preprocessing import StandardScaler\n",
    "\n",
    "numerical_columns = X_train.select_dtypes(include=['float64', 'int64']).columns\n",
    "\n",
    "ct = ColumnTransformer([(\"only numeric\", StandardScaler(), numerical_columns)], remainder='passthrough')"
   ]
  },
  {
   "cell_type": "code",
   "execution_count": 12,
   "id": "66c18cea",
   "metadata": {},
   "outputs": [],
   "source": [
    "features_train_scaled= ct.fit_transform(X_train)\n",
    "\n",
    "features_test_scaled =ct.transform(X_test)"
   ]
  },
  {
   "cell_type": "code",
   "execution_count": 13,
   "id": "c83aa29f",
   "metadata": {},
   "outputs": [],
   "source": [
    "from tensorflow.keras.models import Sequential\n",
    "from tensorflow.keras.layers import InputLayer\n",
    "\n",
    "my_model = Sequential()\n",
    "input = InputLayer(input_shape = len(X_train.columns))"
   ]
  },
  {
   "cell_type": "code",
   "execution_count": 14,
   "id": "2f6265ff",
   "metadata": {},
   "outputs": [],
   "source": [
    "my_model.add(input)"
   ]
  },
  {
   "cell_type": "code",
   "execution_count": 15,
   "id": "0ab248ce",
   "metadata": {},
   "outputs": [],
   "source": [
    "from tensorflow.keras.layers import Dense\n",
    "\n",
    "my_model.add(Dense(64,activation = 'relu'))\n",
    "\n",
    "my_model.add(Dense(1))"
   ]
  },
  {
   "cell_type": "code",
   "execution_count": 16,
   "id": "dc1516fe",
   "metadata": {},
   "outputs": [
    {
     "name": "stdout",
     "output_type": "stream",
     "text": [
      "Model: \"sequential\"\n",
      "_________________________________________________________________\n",
      " Layer (type)                Output Shape              Param #   \n",
      "=================================================================\n",
      " dense (Dense)               (None, 64)                1408      \n",
      "                                                                 \n",
      " dense_1 (Dense)             (None, 1)                 65        \n",
      "                                                                 \n",
      "=================================================================\n",
      "Total params: 1,473\n",
      "Trainable params: 1,473\n",
      "Non-trainable params: 0\n",
      "_________________________________________________________________\n"
     ]
    }
   ],
   "source": [
    "Sequential.summary(my_model)"
   ]
  },
  {
   "cell_type": "code",
   "execution_count": 17,
   "id": "527d3a07",
   "metadata": {},
   "outputs": [],
   "source": [
    "from tensorflow.keras.optimizers import Adam\n",
    "\n",
    "opt = Adam(learning_rate=0.01,name='Adam')\n",
    "my_model.compile(optimizer = opt, loss=\"mse\", metrics=[\"mae\"])"
   ]
  },
  {
   "cell_type": "code",
   "execution_count": 18,
   "id": "9df46cdd",
   "metadata": {},
   "outputs": [
    {
     "name": "stdout",
     "output_type": "stream",
     "text": [
      "Epoch 1/40\n",
      "2350/2350 [==============================] - 3s 1ms/step - loss: 142.0804 - mae: 6.4819\n",
      "Epoch 2/40\n",
      "2350/2350 [==============================] - 3s 1ms/step - loss: 25.7752 - mae: 3.6981\n",
      "Epoch 3/40\n",
      "2350/2350 [==============================] - 3s 1ms/step - loss: 27.3402 - mae: 3.6883\n",
      "Epoch 4/40\n",
      "2350/2350 [==============================] - 3s 1ms/step - loss: 20.8313 - mae: 3.2925\n",
      "Epoch 5/40\n",
      "2350/2350 [==============================] - 2s 1ms/step - loss: 21.1493 - mae: 3.2911\n",
      "Epoch 6/40\n",
      "2350/2350 [==============================] - 3s 1ms/step - loss: 17.1125 - mae: 2.9512\n",
      "Epoch 7/40\n",
      "2350/2350 [==============================] - 3s 1ms/step - loss: 15.6461 - mae: 2.8873\n",
      "Epoch 8/40\n",
      "2350/2350 [==============================] - 3s 1ms/step - loss: 16.9279 - mae: 2.9413\n",
      "Epoch 9/40\n",
      "2350/2350 [==============================] - 3s 1ms/step - loss: 14.9435 - mae: 2.7255\n",
      "Epoch 10/40\n",
      "2350/2350 [==============================] - 3s 1ms/step - loss: 13.6111 - mae: 2.7586\n",
      "Epoch 11/40\n",
      "2350/2350 [==============================] - 3s 1ms/step - loss: 13.7621 - mae: 2.6651\n",
      "Epoch 12/40\n",
      "2350/2350 [==============================] - 3s 1ms/step - loss: 15.0160 - mae: 2.7241\n",
      "Epoch 13/40\n",
      "2350/2350 [==============================] - 3s 1ms/step - loss: 11.6225 - mae: 2.5681\n",
      "Epoch 14/40\n",
      "2350/2350 [==============================] - 3s 1ms/step - loss: 12.7164 - mae: 2.5863\n",
      "Epoch 15/40\n",
      "2350/2350 [==============================] - 3s 1ms/step - loss: 11.0372 - mae: 2.4481\n",
      "Epoch 16/40\n",
      "2350/2350 [==============================] - 2s 984us/step - loss: 10.9712 - mae: 2.4724\n",
      "Epoch 17/40\n",
      "2350/2350 [==============================] - 2s 1ms/step - loss: 13.1157 - mae: 2.5401\n",
      "Epoch 18/40\n",
      "2350/2350 [==============================] - 2s 1ms/step - loss: 10.8004 - mae: 2.3639\n",
      "Epoch 19/40\n",
      "2350/2350 [==============================] - 3s 1ms/step - loss: 10.3851 - mae: 2.4002\n",
      "Epoch 20/40\n",
      "2350/2350 [==============================] - 2s 1ms/step - loss: 11.5423 - mae: 2.4145\n",
      "Epoch 21/40\n",
      "2350/2350 [==============================] - 2s 996us/step - loss: 9.8325 - mae: 2.2804\n",
      "Epoch 22/40\n",
      "2350/2350 [==============================] - 2s 1ms/step - loss: 9.9010 - mae: 2.2885\n",
      "Epoch 23/40\n",
      "2350/2350 [==============================] - 2s 993us/step - loss: 10.7878 - mae: 2.3585\n",
      "Epoch 24/40\n",
      "2350/2350 [==============================] - 2s 966us/step - loss: 9.2751 - mae: 2.2109\n",
      "Epoch 25/40\n",
      "2350/2350 [==============================] - 3s 1ms/step - loss: 9.6801 - mae: 2.2111\n",
      "Epoch 26/40\n",
      "2350/2350 [==============================] - 2s 1ms/step - loss: 9.9779 - mae: 2.2801\n",
      "Epoch 27/40\n",
      "2350/2350 [==============================] - 2s 1ms/step - loss: 9.1828 - mae: 2.1867\n",
      "Epoch 28/40\n",
      "2350/2350 [==============================] - 2s 985us/step - loss: 8.9139 - mae: 2.2054\n",
      "Epoch 29/40\n",
      "2350/2350 [==============================] - 2s 982us/step - loss: 10.0224 - mae: 2.2025\n",
      "Epoch 30/40\n",
      "2350/2350 [==============================] - 2s 997us/step - loss: 8.1727 - mae: 2.0984\n",
      "Epoch 31/40\n",
      "2350/2350 [==============================] - 2s 1ms/step - loss: 8.2167 - mae: 2.1032\n",
      "Epoch 32/40\n",
      "2350/2350 [==============================] - 3s 1ms/step - loss: 8.1368 - mae: 2.1076\n",
      "Epoch 33/40\n",
      "2350/2350 [==============================] - 2s 1ms/step - loss: 7.8220 - mae: 2.0443\n",
      "Epoch 34/40\n",
      "2350/2350 [==============================] - 3s 1ms/step - loss: 8.6363 - mae: 2.1154\n",
      "Epoch 35/40\n",
      "2350/2350 [==============================] - 3s 1ms/step - loss: 8.0162 - mae: 2.0642\n",
      "Epoch 36/40\n",
      "2350/2350 [==============================] - 2s 1ms/step - loss: 8.3022 - mae: 2.0854\n",
      "Epoch 37/40\n",
      "2350/2350 [==============================] - 2s 997us/step - loss: 8.7448 - mae: 2.0931\n",
      "Epoch 38/40\n",
      "2350/2350 [==============================] - 2s 1ms/step - loss: 7.4502 - mae: 1.9921\n",
      "Epoch 39/40\n",
      "2350/2350 [==============================] - 3s 1ms/step - loss: 8.2279 - mae: 2.0193\n",
      "Epoch 40/40\n",
      "2350/2350 [==============================] - 3s 1ms/step - loss: 7.6094 - mae: 1.9929\n"
     ]
    },
    {
     "data": {
      "text/plain": [
       "<keras.callbacks.History at 0x166647433a0>"
      ]
     },
     "execution_count": 18,
     "metadata": {},
     "output_type": "execute_result"
    }
   ],
   "source": [
    "my_model.fit(features_train_scaled,y_train,epochs = 40, batch_size =1,verbose = 1)"
   ]
  },
  {
   "cell_type": "code",
   "execution_count": 19,
   "id": "382e746c",
   "metadata": {},
   "outputs": [],
   "source": [
    "res_mse, res_mae = my_model.evaluate(features_test_scaled,y_test,verbose = 0)"
   ]
  },
  {
   "cell_type": "code",
   "execution_count": 21,
   "id": "d2478e5d",
   "metadata": {},
   "outputs": [
    {
     "name": "stdout",
     "output_type": "stream",
     "text": [
      "2.9449856118852984 2.212130308151245\n"
     ]
    }
   ],
   "source": [
    "print(res_mse**.5, res_mae)"
   ]
  },
  {
   "cell_type": "code",
   "execution_count": null,
   "id": "de941dff",
   "metadata": {},
   "outputs": [],
   "source": [
    "## Conclusion: \n",
    "# I successfully created a neural network model that perdicts life expectancy. \n",
    "# The model has a root-mean-square deviation of 2.94 years and a mean absolute error of 2.21 years"
   ]
  },
  {
   "cell_type": "code",
   "execution_count": null,
   "id": "760e3730",
   "metadata": {},
   "outputs": [],
   "source": [
    "#These results could be useful to help countries determine the factors they need to improve in order to promote longer lifespans."
   ]
  }
 ],
 "metadata": {
  "kernelspec": {
   "display_name": "Python 3 (ipykernel)",
   "language": "python",
   "name": "python3"
  },
  "language_info": {
   "codemirror_mode": {
    "name": "ipython",
    "version": 3
   },
   "file_extension": ".py",
   "mimetype": "text/x-python",
   "name": "python",
   "nbconvert_exporter": "python",
   "pygments_lexer": "ipython3",
   "version": "3.9.12"
  }
 },
 "nbformat": 4,
 "nbformat_minor": 5
}
